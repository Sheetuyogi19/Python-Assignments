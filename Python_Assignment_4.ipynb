{
 "cells": [
  {
   "cell_type": "code",
   "execution_count": 1,
   "id": "2a56120a",
   "metadata": {},
   "outputs": [
    {
     "name": "stdout",
     "output_type": "stream",
     "text": [
      "Enter a number 5\n",
      "Factorial =  120\n"
     ]
    }
   ],
   "source": [
    "##Q1.Write a Python Program to Find the Factorial of a Number##\n",
    "\n",
    "i = int(input(\"Enter a number \" ))\n",
    "fac = 1\n",
    "while i>0:\n",
    "    fac = fac*i\n",
    "    i = i-1\n",
    "print(\"Factorial = \", fac)    "
   ]
  },
  {
   "cell_type": "code",
   "execution_count": 10,
   "id": "44db5d64",
   "metadata": {},
   "outputs": [
    {
     "name": "stdout",
     "output_type": "stream",
     "text": [
      "Enter number to get table : 10\n",
      "10 * 1 = 10\n",
      "10 * 2 = 20\n",
      "10 * 3 = 30\n",
      "10 * 4 = 40\n",
      "10 * 5 = 50\n",
      "10 * 6 = 60\n",
      "10 * 7 = 70\n",
      "10 * 8 = 80\n",
      "10 * 9 = 90\n",
      "10 * 10 = 100\n"
     ]
    }
   ],
   "source": [
    "##Q.2 Write a Python Program to Display the multiplication Table##\n",
    "\n",
    "number = int(input(\"Enter number to get table : \" ))\n",
    "\n",
    "for i in range (1,11):\n",
    "        result = number * i\n",
    "        print(number, \"*\", i, \"=\", result)"
   ]
  },
  {
   "cell_type": "code",
   "execution_count": 17,
   "id": "ec14fd2d",
   "metadata": {},
   "outputs": [
    {
     "name": "stdout",
     "output_type": "stream",
     "text": [
      "Enter the number till what we want the sequence: 10\n",
      "The Fibonacci sequence for the given number 10:is 1\n",
      "The Fibonacci sequence for the given number 10:is 2\n",
      "The Fibonacci sequence for the given number 10:is 3\n",
      "The Fibonacci sequence for the given number 10:is 5\n",
      "The Fibonacci sequence for the given number 10:is 8\n",
      "The Fibonacci sequence for the given number 10:is 13\n",
      "The Fibonacci sequence for the given number 10:is 21\n",
      "The Fibonacci sequence for the given number 10:is 34\n",
      "The Fibonacci sequence for the given number 10:is 55\n"
     ]
    }
   ],
   "source": [
    "##Q.3 Write a Python Program to Print the Fibonacci sequence##\n",
    "\n",
    "num = int(input(\"Enter the number till what we want the sequence: \"))\n",
    "a=0\n",
    "b=1\n",
    "c=0\n",
    "\n",
    "i=1\n",
    "while i<num:\n",
    "    c=a+b\n",
    "    a=b\n",
    "    b=c\n",
    "    i=i+1\n",
    "    print(\"The Fibonacci sequence for the given number \"+str(num) + \":is\", c)"
   ]
  },
  {
   "cell_type": "code",
   "execution_count": 21,
   "id": "fafcf949",
   "metadata": {},
   "outputs": [
    {
     "name": "stdout",
     "output_type": "stream",
     "text": [
      "Enter a number153\n",
      "It is a armstrong number\n"
     ]
    }
   ],
   "source": [
    "##Q.4 Write a Python Program to Check Armstrong Number##\n",
    "\n",
    "num = int(input(\"Enter a number\"))\n",
    "sum = 0\n",
    "temp = num\n",
    "while temp>0:\n",
    "    digit=temp%10\n",
    "    sum+=digit**3\n",
    "    temp //= 10\n",
    "    \n",
    "if sum==num:\n",
    "    print('It is a armstrong number')\n",
    "else:\n",
    "    print('It is not a armstrong number')"
   ]
  },
  {
   "cell_type": "code",
   "execution_count": 24,
   "id": "f251e767",
   "metadata": {},
   "outputs": [
    {
     "name": "stdout",
     "output_type": "stream",
     "text": [
      "Enter the lower limit number: 100\n",
      "Enter the upper limit number: 1000\n",
      "153\n",
      "370\n",
      "371\n",
      "407\n"
     ]
    }
   ],
   "source": [
    "##Q.5 Write a Python Program to Find Armstrong Number in an Interval##\n",
    "\n",
    "lower = int(input(\"Enter the lower limit number: \"))\n",
    "upper = int(input(\"Enter the upper limit number: \"))\n",
    "\n",
    "for num in range (lower, upper +1):\n",
    "    order = len(str(num))\n",
    "    sum = 0\n",
    "    temp = num\n",
    "    while temp>0:\n",
    "        digit = temp % 10\n",
    "        sum += digit**order\n",
    "        temp //= 10\n",
    "    if num == sum:\n",
    "        print(num)\n",
    "\n",
    "        \n",
    "    "
   ]
  },
  {
   "cell_type": "code",
   "execution_count": 27,
   "id": "832fc0a0",
   "metadata": {},
   "outputs": [
    {
     "name": "stdout",
     "output_type": "stream",
     "text": [
      "Enter a number here: 5\n",
      "15\n"
     ]
    }
   ],
   "source": [
    "##Q.6 Write a Python Program to Find the Sum of Natural Numbers##\n",
    "\n",
    "num = int(input('Enter a number here: '))\n",
    "\n",
    "if num<0:\n",
    "    print('Please enter a  positive number')\n",
    "else:\n",
    "    sum=0\n",
    "    while num>0:\n",
    "        sum+=num\n",
    "        num-=1\n",
    "    print(sum)    "
   ]
  },
  {
   "cell_type": "code",
   "execution_count": null,
   "id": "8beb7ec8",
   "metadata": {},
   "outputs": [],
   "source": []
  }
 ],
 "metadata": {
  "kernelspec": {
   "display_name": "Python 3 (ipykernel)",
   "language": "python",
   "name": "python3"
  },
  "language_info": {
   "codemirror_mode": {
    "name": "ipython",
    "version": 3
   },
   "file_extension": ".py",
   "mimetype": "text/x-python",
   "name": "python",
   "nbconvert_exporter": "python",
   "pygments_lexer": "ipython3",
   "version": "3.9.13"
  }
 },
 "nbformat": 4,
 "nbformat_minor": 5
}
