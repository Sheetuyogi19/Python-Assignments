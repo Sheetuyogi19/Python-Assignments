{
 "cells": [
  {
   "cell_type": "code",
   "execution_count": 2,
   "id": "55b7cf6b",
   "metadata": {},
   "outputs": [
    {
     "name": "stdout",
     "output_type": "stream",
     "text": [
      "Enter the first number:15\n",
      "Enter the second number:20\n",
      "LCM is: 60\n"
     ]
    }
   ],
   "source": [
    "##Write a Python Program to Find LCM##\n",
    "a=int(input(\"Enter the first number:\"))\n",
    "b=int(input(\"Enter the second number:\"))\n",
    "if(a>b):\n",
    "    min1=a\n",
    "else:\n",
    "    min1=b\n",
    "while(1):\n",
    "    if(min1%a==0 and min1%b==0):\n",
    "        print(\"LCM is:\",min1)\n",
    "        break\n",
    "    min1=min1+1"
   ]
  },
  {
   "cell_type": "code",
   "execution_count": 3,
   "id": "4d82132e",
   "metadata": {},
   "outputs": [
    {
     "name": "stdout",
     "output_type": "stream",
     "text": [
      "HCF of 50 and 100 is: 50\n"
     ]
    }
   ],
   "source": [
    "##Write a Python Program to Find HCF##\n",
    "x = 50\n",
    "y = 100\n",
    "if x > y:\n",
    "  x, y = y, x\n",
    "for i in range(1,x+1):\n",
    "  if x%i == 0 and y%i == 0:\n",
    "    hcf = i\n",
    "\n",
    "print(\"HCF of\", x, \"and\", y, \"is:\", hcf)"
   ]
  },
  {
   "cell_type": "code",
   "execution_count": 8,
   "id": "e7acda03",
   "metadata": {},
   "outputs": [
    {
     "name": "stdout",
     "output_type": "stream",
     "text": [
      "Enter an integer: 50\n",
      "The decimal value of 50 is:\n",
      "0b110010 in binary.\n",
      "0o62 in octal.\n",
      "0x32 in hexadecimal.\n"
     ]
    }
   ],
   "source": [
    "##Python Program to Convert Decimal to Binary, Octal and Hexadecimal##\n",
    "dec = int(input(\"Enter an integer: \"))\n",
    "print(\"The decimal value of\",dec,\"is:\")\n",
    "print(bin(dec),\"in binary.\")\n",
    "print(oct(dec),\"in octal.\")\n",
    "print(hex(dec),\"in hexadecimal.\")"
   ]
  },
  {
   "cell_type": "code",
   "execution_count": 9,
   "id": "934761f4",
   "metadata": {},
   "outputs": [
    {
     "name": "stdout",
     "output_type": "stream",
     "text": [
      "Please enter a character: %\n",
      "The ASCII value of '%' is  37\n"
     ]
    }
   ],
   "source": [
    "##Python Program To Find ASCII value of a character##\n",
    "K = input(\"Please enter a character: \")    \n",
    "    \n",
    "print (\"The ASCII value of '\" + K + \"' is \", ord(K))  "
   ]
  },
  {
   "cell_type": "code",
   "execution_count": 14,
   "id": "000bf617",
   "metadata": {},
   "outputs": [
    {
     "name": "stdout",
     "output_type": "stream",
     "text": [
      "please Select the Operation you  want to Perfom\n",
      "      1 = Add\n",
      "      2 = Subtract\n",
      "      3 = Multiply\n",
      "      4 = Divide\n",
      "Choose Operation from 1, 2, 3, 4 = 2\n",
      "First Number        = 3\n",
      "Second Number = 2\n",
      "3  -  2   =   1\n"
     ]
    }
   ],
   "source": [
    "##Python Program to Make a Simple Calculator with 4 basic mathematical operations##\n",
    "print('''please Select the Operation you  want to Perfom\n",
    "      1 = Add\n",
    "      2 = Subtract\n",
    "      3 = Multiply\n",
    "      4 = Divide''')\n",
    "      \n",
    "opt = int(input(\"Choose Operation from 1, 2, 3, 4 = \"))\n",
    "\n",
    "n1 = int(input(\"First Number        = \"))\n",
    "n2 = int(input(\"Second Number = \"))\n",
    "if opt == 1:\n",
    "    print(n1, ' + ', n2, '  =  ', n1 +  n2)\n",
    "elif opt == 2:\n",
    "    print(n1, ' - ', n2, '  =  ', n1 -  n2)\n",
    "elif opt == 3:\n",
    "    print(n1, ' * ', n2, '  =  ', n1 *  n2)\n",
    "elif opt == 4:\n",
    "    print(n1, ' / ', n2, '  =  ', n1 /  n2)\n",
    "else:\n",
    "    print('Invalid Input')"
   ]
  },
  {
   "cell_type": "code",
   "execution_count": null,
   "id": "d33d8fbc",
   "metadata": {},
   "outputs": [],
   "source": []
  }
 ],
 "metadata": {
  "kernelspec": {
   "display_name": "Python 3 (ipykernel)",
   "language": "python",
   "name": "python3"
  },
  "language_info": {
   "codemirror_mode": {
    "name": "ipython",
    "version": 3
   },
   "file_extension": ".py",
   "mimetype": "text/x-python",
   "name": "python",
   "nbconvert_exporter": "python",
   "pygments_lexer": "ipython3",
   "version": "3.9.13"
  }
 },
 "nbformat": 4,
 "nbformat_minor": 5
}
