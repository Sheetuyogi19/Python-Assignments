{
 "cells": [
  {
   "cell_type": "code",
   "execution_count": 1,
   "id": "7d806b26",
   "metadata": {},
   "outputs": [
    {
     "name": "stdout",
     "output_type": "stream",
     "text": [
      "    August 2021\n",
      "Mo Tu We Th Fr Sa Su\n",
      "                   1\n",
      " 2  3  4  5  6  7  8\n",
      " 9 10 11 12 13 14 15\n",
      "16 17 18 19 20 21 22\n",
      "23 24 25 26 27 28 29\n",
      "30 31\n",
      "\n"
     ]
    }
   ],
   "source": [
    "###Python program to display calendar###\n",
    "import calendar\n",
    "\n",
    "print(calendar.month(2021,8))"
   ]
  },
  {
   "cell_type": "code",
   "execution_count": 2,
   "id": "f260836e",
   "metadata": {},
   "outputs": [
    {
     "name": "stdout",
     "output_type": "stream",
     "text": [
      "enter your value in kms: 5\n",
      "5.0 kms will be 3.106855 miles\n"
     ]
    }
   ],
   "source": [
    "####convert kilometers to miles###\n",
    "\n",
    "km = float (input (\"enter your value in kms: \"))\n",
    "miles = (0.621371)*km\n",
    "print (km, \"kms will be\",miles,\"miles\")"
   ]
  },
  {
   "cell_type": "code",
   "execution_count": 3,
   "id": "6976a13b",
   "metadata": {},
   "outputs": [
    {
     "name": "stdout",
     "output_type": "stream",
     "text": [
      "enter temperature in celsius: 30\n",
      "the converted value is  86.0 Fahrenheit\n"
     ]
    }
   ],
   "source": [
    "###convert Celsius to Fahrenheit####\n",
    "\n",
    "celsius = int(input(\"enter temperature in celsius: \"))\n",
    "fahrenheit = (celsius * (1.8))+32\n",
    "print (\"the converted value is \", fahrenheit,\"Fahrenheit\")"
   ]
  },
  {
   "cell_type": "code",
   "execution_count": 9,
   "id": "40d27429",
   "metadata": {},
   "outputs": [
    {
     "name": "stdout",
     "output_type": "stream",
     "text": [
      "a:2\n",
      "b:5\n",
      "c:1\n",
      "There are 2 roots:-0.219224 and -2.280776\n"
     ]
    }
   ],
   "source": [
    "###Python program to solve quadratic equation###\n",
    "\n",
    "import math\n",
    "\n",
    "a = float(input(\"a:\"))\n",
    "b = float(input(\"b:\"))\n",
    "c = float(input(\"c:\"))\n",
    "\n",
    "delta = math.pow(b,2) - (4 * a * c)\n",
    "\n",
    "if delta > 0:\n",
    "    #number of roots are 2\n",
    "    x1 = (((-b) + math.sqrt(delta)) / (2 * a))\n",
    "    x2 = (((-b) - math.sqrt(delta)) / (2 * a))\n",
    "    print(\"There are 2 roots:%f and %f\" % (x1,x2))\n",
    "    \n",
    "elif delta == 0:\n",
    "        #number of roots 1, rational and equal\n",
    "        x = (-b) / 2 * a\n",
    "        print(\"There is on root:\", x)\n",
    "else:\n",
    "        #number of roots 0, imaginary\n",
    "        print(\"No roots, delta < 0 \")\n",
    "    "
   ]
  },
  {
   "cell_type": "code",
   "execution_count": 10,
   "id": "f920980b",
   "metadata": {},
   "outputs": [
    {
     "name": "stdout",
     "output_type": "stream",
     "text": [
      "the value of a is  3\n",
      "the value of b is  2\n"
     ]
    }
   ],
   "source": [
    "##Python program to swap two variables without temp variable##\n",
    "a = 2\n",
    "b = 3\n",
    "\n",
    "a,b = b,a\n",
    "\n",
    "print(\"the value of a is \", a)\n",
    "print(\"the value of b is \",b)\n"
   ]
  },
  {
   "cell_type": "code",
   "execution_count": null,
   "id": "762e00a2",
   "metadata": {},
   "outputs": [],
   "source": []
  }
 ],
 "metadata": {
  "kernelspec": {
   "display_name": "Python 3 (ipykernel)",
   "language": "python",
   "name": "python3"
  },
  "language_info": {
   "codemirror_mode": {
    "name": "ipython",
    "version": 3
   },
   "file_extension": ".py",
   "mimetype": "text/x-python",
   "name": "python",
   "nbconvert_exporter": "python",
   "pygments_lexer": "ipython3",
   "version": "3.9.13"
  }
 },
 "nbformat": 4,
 "nbformat_minor": 5
}
