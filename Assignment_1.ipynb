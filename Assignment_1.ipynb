{
 "cells": [
  {
   "cell_type": "code",
   "execution_count": 1,
   "id": "3fc0b006",
   "metadata": {},
   "outputs": [
    {
     "name": "stdout",
     "output_type": "stream",
     "text": [
      "Hello Python\n"
     ]
    }
   ],
   "source": [
    "print(\"Hello Python\")"
   ]
  },
  {
   "cell_type": "code",
   "execution_count": 2,
   "id": "a1564f4e",
   "metadata": {},
   "outputs": [
    {
     "name": "stdout",
     "output_type": "stream",
     "text": [
      "enter the 1st number 25\n",
      "enter the 2nd number 25\n",
      "50\n"
     ]
    }
   ],
   "source": [
    "###Addition operation####\n",
    "a=int(input(\"enter the 1st number \"))\n",
    "b=int(input(\"enter the 2nd number \"))\n",
    "c=a+b\n",
    "print(c)"
   ]
  },
  {
   "cell_type": "code",
   "execution_count": 3,
   "id": "1c18450d",
   "metadata": {},
   "outputs": [
    {
     "name": "stdout",
     "output_type": "stream",
     "text": [
      "1.0\n"
     ]
    }
   ],
   "source": [
    "####Division operation####\n",
    "c=a/b\n",
    "print(c)"
   ]
  },
  {
   "cell_type": "code",
   "execution_count": 9,
   "id": "1cb83d02",
   "metadata": {},
   "outputs": [
    {
     "name": "stdout",
     "output_type": "stream",
     "text": [
      "enter the length of 1st side 10\n",
      "enter the length of 2nd side 10\n",
      "enter the length of 3rd side 10\n",
      "area of triangle is  43.30127018922193\n",
      "perimeter of triagle is  30\n",
      "semi perimeter of triangle is :  15.0\n"
     ]
    }
   ],
   "source": [
    "##To find the area of a triangle####\n",
    "a = int(input(\"enter the length of 1st side \"))\n",
    "b = int(input(\"enter the length of 2nd side \"))\n",
    "c = int(input(\"enter the length of 3rd side \"))\n",
    "\n",
    "p = a+b+c\n",
    "s = p/2\n",
    "\n",
    "area = (s*(s-a)*(s-b)*(s-c))**0.5\n",
    "\n",
    "print(\"area of triangle is \", area)\n",
    "print(\"perimeter of triagle is \",p)\n",
    "print(\"semi perimeter of triangle is : \",s)"
   ]
  },
  {
   "cell_type": "code",
   "execution_count": 10,
   "id": "f4b75f24",
   "metadata": {},
   "outputs": [
    {
     "name": "stdout",
     "output_type": "stream",
     "text": [
      "the value of a is  6\n",
      "the value of b is  5\n"
     ]
    }
   ],
   "source": [
    "###to swap two variables###\n",
    "a = 5\n",
    "b = 6\n",
    "\n",
    "a,b = b,a\n",
    "\n",
    "print(\"the value of a is \", a)\n",
    "print(\"the value of b is \",b)\n"
   ]
  },
  {
   "cell_type": "code",
   "execution_count": 13,
   "id": "8cd49a7b",
   "metadata": {},
   "outputs": [
    {
     "name": "stdout",
     "output_type": "stream",
     "text": [
      "20\n"
     ]
    }
   ],
   "source": [
    "###to generate a random number###\n",
    "import random\n",
    "num = random.randint(1,20)\n",
    "print(num)"
   ]
  },
  {
   "cell_type": "code",
   "execution_count": null,
   "id": "483aa92a",
   "metadata": {},
   "outputs": [],
   "source": []
  }
 ],
 "metadata": {
  "kernelspec": {
   "display_name": "Python 3 (ipykernel)",
   "language": "python",
   "name": "python3"
  },
  "language_info": {
   "codemirror_mode": {
    "name": "ipython",
    "version": 3
   },
   "file_extension": ".py",
   "mimetype": "text/x-python",
   "name": "python",
   "nbconvert_exporter": "python",
   "pygments_lexer": "ipython3",
   "version": "3.9.13"
  }
 },
 "nbformat": 4,
 "nbformat_minor": 5
}
