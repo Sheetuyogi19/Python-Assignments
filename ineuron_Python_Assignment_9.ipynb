{
 "cells": [
  {
   "cell_type": "code",
   "execution_count": 1,
   "id": "d165ab03",
   "metadata": {},
   "outputs": [
    {
     "name": "stdout",
     "output_type": "stream",
     "text": [
      "The list of happy numbers between 1 and 100 are : \n",
      "7\n",
      "10\n",
      "13\n",
      "19\n",
      "23\n",
      "28\n",
      "31\n",
      "32\n",
      "44\n",
      "49\n",
      "68\n",
      "70\n",
      "79\n",
      "82\n",
      "86\n",
      "91\n",
      "94\n",
      "97\n",
      "100\n"
     ]
    }
   ],
   "source": [
    "def check_happy_num(my_num):\n",
    "    remaining = sum_val = 0\n",
    "    while(my_num > 0):\n",
    "        remaining = my_num%10\n",
    "        sum_val = sum_val + (remaining*remaining)\n",
    "        my_num = my_num//10\n",
    "    return sum_val\n",
    "print(\"The list of happy numbers between 1 and 100 are : \")\n",
    "for i in range(1, 101):\n",
    "    my_result = i\n",
    "    while(my_result != 1 and my_result != 4):\n",
    "        my_result = check_happy_num(my_result)\n",
    "        if(my_result == 1):\n",
    "            print(i)"
   ]
  },
  {
   "cell_type": "code",
   "execution_count": 2,
   "id": "b1cadc94",
   "metadata": {},
   "outputs": [
    {
     "name": "stdout",
     "output_type": "stream",
     "text": [
      "10\n",
      " not a disarium number\n"
     ]
    }
   ],
   "source": [
    "##Python program to check if the given number is a Disarium Number##\n",
    "\n",
    "num = int(input())\n",
    "rem = s = 0;    \n",
    "len = len(str(num))\n",
    "     \n",
    "n = num;    \n",
    "     \n",
    "while(num > 0):    \n",
    "    rem = num%10;    \n",
    "    s += int(rem**len);    \n",
    "    num = num//10;    \n",
    "    len -= 1;    \n",
    "     \n",
    "if(s == n):    \n",
    "    print( \"disarium number\");    \n",
    "else:    \n",
    "    print(\" not a disarium number\"); "
   ]
  },
  {
   "cell_type": "code",
   "execution_count": 3,
   "id": "06ef6e29",
   "metadata": {},
   "outputs": [
    {
     "name": "stdout",
     "output_type": "stream",
     "text": [
      "Disarium numbers between 1 and 100 are\n",
      "1\n",
      "2\n",
      "3\n",
      "4\n",
      "5\n",
      "6\n",
      "7\n",
      "8\n",
      "9\n",
      "89\n"
     ]
    }
   ],
   "source": [
    "##Python program to print all disarium numbers between 1 to 100##\n",
    "\n",
    "def calculateLength(n):    \n",
    "    length = 0;    \n",
    "    while(n != 0):    \n",
    "        length = length + 1;    \n",
    "        n = n//10;    \n",
    "    return length;    \n",
    "     \n",
    "def sumOfDigits(num):    \n",
    "    rem = sum = 0;    \n",
    "    len = calculateLength(num);    \n",
    "        \n",
    "    while(num > 0):    \n",
    "        rem = num%10;    \n",
    "        sum = sum + (rem**len);    \n",
    "        num = num//10;    \n",
    "        len = len - 1;    \n",
    "    return sum;    \n",
    "      \n",
    "result = 0;    \n",
    "     \n",
    "print(\"Disarium numbers between 1 and 100 are\");    \n",
    "for i in range(1, 101):    \n",
    "    result = sumOfDigits(i);    \n",
    "        \n",
    "    if(result == i):    \n",
    "        print(i), "
   ]
  },
  {
   "cell_type": "code",
   "execution_count": 4,
   "id": "02fb0529",
   "metadata": {},
   "outputs": [
    {
     "name": "stdout",
     "output_type": "stream",
     "text": [
      "100\n",
      "happy number\n"
     ]
    }
   ],
   "source": [
    "##Python program to check if the given number is Happy Number##\n",
    "\n",
    "def isHappy(n):    \n",
    "    r = s = 0;    \n",
    "    while(n > 0):    \n",
    "        r = n%10    \n",
    "        s += r**2  \n",
    "        n //= 10    \n",
    "    return s  \n",
    "        \n",
    "n = int(input())    \n",
    "res = n;    \n",
    "     \n",
    "while(res != 1 and res != 4):    \n",
    "    res = isHappy(res)    \n",
    "     \n",
    "if(res == 1):    \n",
    "    print(\"happy number\")\n",
    "elif(res == 4):    \n",
    "    print(\"not a happy number\")  "
   ]
  },
  {
   "cell_type": "code",
   "execution_count": 6,
   "id": "0a48ee6d",
   "metadata": {},
   "outputs": [
    {
     "name": "stdout",
     "output_type": "stream",
     "text": [
      "A copy of the number to be checked is being made...\n",
      "150 is a Harshad number\n"
     ]
    }
   ],
   "source": [
    "##Python program to determine whether the given number is a Harshad Number##\n",
    "\n",
    "my_num = 150\n",
    "remaining = sum_val = 0\n",
    "print(\"A copy of the number to be checked is being made...\")\n",
    "my_num_copy = my_num;\n",
    "while(my_num > 0):\n",
    "   remaining = my_num%10;\n",
    "   sum_val = sum_val + remaining;\n",
    "   my_num = my_num//10;\n",
    "if(my_num_copy % sum_val == 0):\n",
    "   print(str(my_num_copy) + \" is a Harshad number\");\n",
    "else:\n",
    "   print(str(my_num_copy) + \" isn't a Harshad number\");"
   ]
  },
  {
   "cell_type": "code",
   "execution_count": 8,
   "id": "6e3cdb04",
   "metadata": {},
   "outputs": [
    {
     "name": "stdout",
     "output_type": "stream",
     "text": [
      "Pronic numbers between 1 and 100: \n",
      "2\n",
      " \n",
      "6\n",
      " \n",
      "12\n",
      " \n",
      "20\n",
      " \n",
      "30\n",
      " \n",
      "42\n",
      " \n",
      "56\n",
      " \n",
      "72\n",
      " \n",
      "90\n",
      " \n"
     ]
    }
   ],
   "source": [
    "##Python program to print all pronic numbers between 1 and 100##\n",
    "\n",
    "def isPronicNumber(num):    \n",
    "    flag = False;    \n",
    "        \n",
    "    for j in range(1, num+1):    \n",
    "          \n",
    "        if((j*(j+1)) == num):    \n",
    "            flag = True;    \n",
    "            break;    \n",
    "    return flag;    \n",
    "     \n",
    "print(\"Pronic numbers between 1 and 100: \");    \n",
    "for i in range(1, 101):    \n",
    "    if(isPronicNumber(i)):    \n",
    "        print(i),    \n",
    "        print(\" \"), "
   ]
  },
  {
   "cell_type": "code",
   "execution_count": null,
   "id": "26249df5",
   "metadata": {},
   "outputs": [],
   "source": []
  }
 ],
 "metadata": {
  "kernelspec": {
   "display_name": "Python 3 (ipykernel)",
   "language": "python",
   "name": "python3"
  },
  "language_info": {
   "codemirror_mode": {
    "name": "ipython",
    "version": 3
   },
   "file_extension": ".py",
   "mimetype": "text/x-python",
   "name": "python",
   "nbconvert_exporter": "python",
   "pygments_lexer": "ipython3",
   "version": "3.9.13"
  }
 },
 "nbformat": 4,
 "nbformat_minor": 5
}
