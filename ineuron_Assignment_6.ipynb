{
 "cells": [
  {
   "cell_type": "code",
   "execution_count": 1,
   "id": "9cc1fd4e",
   "metadata": {},
   "outputs": [
    {
     "name": "stdout",
     "output_type": "stream",
     "text": [
      "Enter number of terms:5\n",
      "Fibonacci sequence:\n",
      "0\n",
      "1\n",
      "1\n",
      "2\n",
      "3\n"
     ]
    }
   ],
   "source": [
    "##Python Program to Display Fibonacci Sequence Using Recursion##\n",
    "def fibonacci(n):\n",
    "    if(n <= 1):\n",
    "        return n\n",
    "    else:\n",
    "        return(fibonacci(n-1) + fibonacci(n-2))\n",
    "n = int(input(\"Enter number of terms:\"))\n",
    "print(\"Fibonacci sequence:\")\n",
    "for i in range(n):\n",
    "    print(fibonacci(i))\n"
   ]
  },
  {
   "cell_type": "code",
   "execution_count": 2,
   "id": "f0053705",
   "metadata": {},
   "outputs": [
    {
     "name": "stdout",
     "output_type": "stream",
     "text": [
      "Enter number:5\n",
      "Factorial:\n",
      "120\n"
     ]
    }
   ],
   "source": [
    "##Python Program to Find Factorial of Number Using Recursion##\n",
    "def factorial(n):\n",
    "    if(n <= 1):\n",
    "        return 1\n",
    "    else:\n",
    "        return(n*factorial(n-1))\n",
    "n = int(input(\"Enter number:\"))\n",
    "print(\"Factorial:\")\n",
    "print(factorial(n))"
   ]
  },
  {
   "cell_type": "code",
   "execution_count": 4,
   "id": "cf921143",
   "metadata": {},
   "outputs": [
    {
     "name": "stdout",
     "output_type": "stream",
     "text": [
      "Enter your height(m): 5.5\n",
      "Enter your weight(kg): 60\n",
      "Your BMI is:  1.98\n"
     ]
    }
   ],
   "source": [
    "##Python Program to calculate your Body Mass Index##\n",
    "\n",
    "height = float(input(\"Enter your height(m): \"))\n",
    "weight = float(input(\"Enter your weight(kg): \"))\n",
    "print(\"Your BMI is: \", round(weight / (height * height), 2))\n",
    "\n"
   ]
  },
  {
   "cell_type": "code",
   "execution_count": 5,
   "id": "7216fc28",
   "metadata": {},
   "outputs": [
    {
     "name": "stdout",
     "output_type": "stream",
     "text": [
      "Enter the number: 80\n",
      "The value is: 4.382026634673881\n"
     ]
    }
   ],
   "source": [
    "##Python Program to calculate the natural logarithm of any number##\n",
    "\n",
    "import math\n",
    "\n",
    "number = int(input(\"Enter the number: \"))\n",
    "\n",
    "ans = math.log(number)\n",
    "\n",
    "print(\"The value is:\",ans)"
   ]
  },
  {
   "cell_type": "code",
   "execution_count": 7,
   "id": "64159f91",
   "metadata": {},
   "outputs": [
    {
     "name": "stdout",
     "output_type": "stream",
     "text": [
      "Enter the number: 5\n",
      "The cubed value is: 125\n"
     ]
    }
   ],
   "source": [
    "##Python Program for cube sum of first n natural numbers##\n",
    "\n",
    "number = int(input(\"Enter the number: \"))\n",
    "\n",
    "cube = number ** 3\n",
    "\n",
    "print(\"The cubed value is:\",cube)"
   ]
  },
  {
   "cell_type": "code",
   "execution_count": null,
   "id": "aa6e23b3",
   "metadata": {},
   "outputs": [],
   "source": []
  }
 ],
 "metadata": {
  "kernelspec": {
   "display_name": "Python 3 (ipykernel)",
   "language": "python",
   "name": "python3"
  },
  "language_info": {
   "codemirror_mode": {
    "name": "ipython",
    "version": 3
   },
   "file_extension": ".py",
   "mimetype": "text/x-python",
   "name": "python",
   "nbconvert_exporter": "python",
   "pygments_lexer": "ipython3",
   "version": "3.9.13"
  }
 },
 "nbformat": 4,
 "nbformat_minor": 5
}
